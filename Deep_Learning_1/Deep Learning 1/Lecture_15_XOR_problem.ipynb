{
  "nbformat": 4,
  "nbformat_minor": 0,
  "metadata": {
    "colab": {
      "provenance": []
    },
    "kernelspec": {
      "name": "python3",
      "display_name": "Python 3"
    },
    "language_info": {
      "name": "python"
    }
  },
  "cells": [
    {
      "cell_type": "code",
      "execution_count": null,
      "metadata": {
        "id": "d0ernsxVsr6-",
        "colab": {
          "base_uri": "https://localhost:8080/"
        },
        "outputId": "8df6d561-b774-417e-882c-c00a8aea494b"
      },
      "outputs": [
        {
          "output_type": "stream",
          "name": "stdout",
          "text": [
            "loss: 0.6959629058837891\n",
            "loss: 0.6931211948394775\n",
            "loss: 0.6514742374420166\n",
            "loss: 0.2962987422943115\n",
            "loss: 0.14780157804489136\n",
            "loss: 0.09172524511814117\n",
            "loss: 0.06397373974323273\n",
            "loss: 0.04781325161457062\n",
            "loss: 0.037397511303424835\n",
            "loss: 0.03020678088068962\n",
            "tensor([[0.0246],\n",
            "        [0.9730],\n",
            "        [0.9765],\n",
            "        [0.0236]], grad_fn=<SigmoidBackward0>)\n"
          ]
        }
      ],
      "source": [
        "import torch\n",
        "import torch.nn as nn\n",
        "\n",
        "from torch.optim.adam import Adam\n",
        "\n",
        "model = nn.Sequential(\n",
        "    nn.Linear(2, 2),\n",
        "    nn.Sigmoid(),\n",
        "    nn.Linear(2, 1),\n",
        "    nn.Sigmoid()\n",
        ")\n",
        "\n",
        "x = torch.FloatTensor([[0., 0.], [0., 1.], [1., 0.], [1., 1.]])\n",
        "y = torch.Tensor([[0.], [1.], [1.], [0.]])\n",
        "\n",
        "optim = Adam(model.parameters(), lr=0.01)\n",
        "\n",
        "for epoch in range(1000):\n",
        "    optim.zero_grad()\n",
        "    preds = model(x)\n",
        "    loss = nn.BCELoss()(preds, y)\n",
        "    loss.backward()\n",
        "    optim.step()\n",
        "    if epoch % 100 == 0:\n",
        "        print('loss:', loss.item())\n",
        "# test\n",
        "out = model(x)\n",
        "print(out)"
      ]
    },
    {
      "cell_type": "code",
      "source": [],
      "metadata": {
        "id": "KEzlmkzB-xej"
      },
      "execution_count": null,
      "outputs": []
    }
  ]
}