{
  "nbformat": 4,
  "nbformat_minor": 0,
  "metadata": {
    "colab": {
      "provenance": []
    },
    "kernelspec": {
      "name": "python3",
      "display_name": "Python 3"
    },
    "language_info": {
      "name": "python"
    }
  },
  "cells": [
    {
      "cell_type": "markdown",
      "source": [
        "# **Normalization**"
      ],
      "metadata": {
        "id": "xPuUbOkk0uTL"
      }
    },
    {
      "cell_type": "code",
      "execution_count": null,
      "metadata": {
        "id": "QcDJKsjM0pHE"
      },
      "outputs": [],
      "source": [
        "from sklearn.preprocessing import MinMaxScaler, StandardScaler\n",
        "X1 = [[1, 2],\n",
        "     [2, 1],\n",
        "     [3, 2],\n",
        "     [4, 3]]\n",
        "X2 = [[1.5, 2864, 2.3],\n",
        "      [2.6, 8372, 1.8],\n",
        "      [1.2, 6453, 2.2],\n",
        "      [2.3, 9587, 3.7],\n",
        "      [1.9, 2332, 3.1],\n",
        "      [3.7, 8574, 1.5],\n",
        "      [2.1, 7665, 2.3],\n",
        "      [1.4, 2428, 1.8],\n",
        "      [3.7, 9476, 3.2],\n",
        "      [1.5, 3422, 2.4]]"
      ]
    },
    {
      "cell_type": "code",
      "source": [
        "scaler1 = MinMaxScaler()\n",
        "scaler1.fit(X1)\n",
        "nX1 = scaler1.transform(X1)\n",
        "print(nX1)"
      ],
      "metadata": {
        "id": "qMpcbLdu05P5",
        "colab": {
          "base_uri": "https://localhost:8080/"
        },
        "outputId": "98c22a5b-1ba2-4788-a439-44308ec4954b"
      },
      "execution_count": null,
      "outputs": [
        {
          "output_type": "stream",
          "name": "stdout",
          "text": [
            "[[0.         0.5       ]\n",
            " [0.33333333 0.        ]\n",
            " [0.66666667 0.5       ]\n",
            " [1.         1.        ]]\n"
          ]
        }
      ]
    },
    {
      "cell_type": "code",
      "source": [
        "scaler2 = MinMaxScaler()\n",
        "scaler2.fit(X2)\n",
        "nX2 = scaler2. transform(X2)\n",
        "print(nX2)"
      ],
      "metadata": {
        "id": "DT7PvSpt0_G3",
        "colab": {
          "base_uri": "https://localhost:8080/"
        },
        "outputId": "be9cd8e5-e1d1-4df0-bf94-d9b74b5dc538"
      },
      "execution_count": null,
      "outputs": [
        {
          "output_type": "stream",
          "name": "stdout",
          "text": [
            "[[0.12       0.07332874 0.36363636]\n",
            " [0.56       0.83252929 0.13636364]\n",
            " [0.         0.56802205 0.31818182]\n",
            " [0.44       1.         1.        ]\n",
            " [0.28       0.         0.72727273]\n",
            " [1.         0.86037216 0.        ]\n",
            " [0.36       0.73507926 0.36363636]\n",
            " [0.08       0.01323225 0.13636364]\n",
            " [1.         0.98470021 0.77272727]\n",
            " [0.12       0.15024121 0.40909091]]\n"
          ]
        }
      ]
    }
  ]
}