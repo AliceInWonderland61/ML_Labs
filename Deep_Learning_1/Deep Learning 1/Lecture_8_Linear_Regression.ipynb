{
  "nbformat": 4,
  "nbformat_minor": 0,
  "metadata": {
    "colab": {
      "provenance": []
    },
    "kernelspec": {
      "name": "python3",
      "display_name": "Python 3"
    },
    "language_info": {
      "name": "python"
    }
  },
  "cells": [
    {
      "cell_type": "markdown",
      "source": [
        "# **Linear Regression**"
      ],
      "metadata": {
        "id": "_Tjihbg0eeB3"
      }
    },
    {
      "cell_type": "code",
      "source": [
        "import numpy as np\n",
        "a_and_b = np.array([3, 76]) # a and b\n",
        "data = np.array([[2, 81], [4, 93], [6, 91], [8, 97]])\n",
        "train_x = data[:, 0]\n",
        "train_y = data[:, 1]"
      ],
      "metadata": {
        "id": "fK6jdNRJekEL"
      },
      "execution_count": null,
      "outputs": []
    },
    {
      "cell_type": "code",
      "source": [
        "mse = sum(((a_and_b[0] * train_x + a_and_b[1]) - train_y)**2)/len(train_x)\n",
        "print(mse)"
      ],
      "metadata": {
        "id": "T2wVjj4wfF3l"
      },
      "execution_count": null,
      "outputs": []
    }
  ]
}