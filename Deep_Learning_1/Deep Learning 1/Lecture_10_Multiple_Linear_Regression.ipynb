{
  "nbformat": 4,
  "nbformat_minor": 0,
  "metadata": {
    "colab": {
      "provenance": []
    },
    "kernelspec": {
      "name": "python3",
      "display_name": "Python 3"
    },
    "language_info": {
      "name": "python"
    }
  },
  "cells": [
    {
      "cell_type": "markdown",
      "source": [
        "# **Multiple Linear Regression**"
      ],
      "metadata": {
        "id": "NUQLTQoAMpuZ"
      }
    },
    {
      "cell_type": "code",
      "execution_count": null,
      "metadata": {
        "id": "tSyI8hw5Iqql"
      },
      "outputs": [],
      "source": [
        "import numpy as np\n",
        "data = np.array([[3.9, 2.1, 7.5, 19.05],\n",
        "                 [2.1, 3.2, 4.5, 13.25],\n",
        "                 [4.7, 4.1, 7.8, 22.05],\n",
        "                 [8.5, 5.4, 1.2, 12.05],\n",
        "                 [1.9, 3.4, 6.2, 16.75],\n",
        "                 [6.3, 4.3, 7.7, 22.85],\n",
        "                 [8.9, 4.4, 3.3, 15.45]])\n"
      ]
    },
    {
      "cell_type": "code",
      "source": [
        "data = np.array([[3.5, 4.7, 2.3, 20.8],\n",
        "                 [4.4, 5.7, 4.1, 29.1],\n",
        "                 [2.5, 7.3, 1.2, 21.7],\n",
        "                 [8.5, 3.3, 4.8, 30.5],\n",
        "                 [4.9, 6.4, 5.7, 35.8],\n",
        "                 [7.2, 7.1, 7.4, 44.6],\n",
        "                 [5.6, 8.2, 6.5, 42.5]]) # Lab 9"
      ],
      "metadata": {
        "id": "GNcDJ7Rhxnmq"
      },
      "execution_count": null,
      "outputs": []
    },
    {
      "cell_type": "code",
      "source": [
        "print(data.shape)\n",
        "x = data[:, :-1]\n",
        "y = data[:, -1]"
      ],
      "metadata": {
        "id": "sQ598jcvJSWa",
        "colab": {
          "base_uri": "https://localhost:8080/"
        },
        "outputId": "15ab5b7f-f19e-4559-f169-11a7eb6d72e3"
      },
      "execution_count": null,
      "outputs": [
        {
          "output_type": "stream",
          "name": "stdout",
          "text": [
            "(7, 4)\n"
          ]
        }
      ]
    },
    {
      "cell_type": "code",
      "source": [
        "w1, w2, w3, b = 0, 0, 0, 0\n",
        "alpha = 0.01"
      ],
      "metadata": {
        "id": "8_HdD9XiJYD2"
      },
      "execution_count": null,
      "outputs": []
    },
    {
      "cell_type": "code",
      "source": [
        "for i in range(10000):\n",
        "    w1 = w1 - alpha * (1/len(data)) * sum((x[:, 0] * w1 + x[:, 1] * w2 + x[:, 2] * w3 + b - y ) * x[:, 0])\n",
        "    w2 = w2 - alpha * (1/len(data)) * sum((x[:, 0] * w1 + x[:, 1] * w2 + x[:, 2] * w3 + b - y ) * x[:, 1])\n",
        "    w3 = w3 - alpha * (1/len(data)) * sum((x[:, 0] * w1 + x[:, 1] * w2 + x[:, 2] * w3 + b - y ) * x[:, 2])\n",
        "    b  =  b - alpha * (1/len(data)) * sum( x[:, 0] * w1 + x[:, 1] * w2 + x[:, 2] * w3 + b - y )\n",
        "print(\"w1 = %f, w2 = %f, w3 = %f, b = %f\" % (w1, w2, w3, b))"
      ],
      "metadata": {
        "id": "MxKd2csaKinW",
        "colab": {
          "base_uri": "https://localhost:8080/"
        },
        "outputId": "d47bc325-7433-4bed-9d5b-b201659e6c81"
      },
      "execution_count": null,
      "outputs": [
        {
          "output_type": "stream",
          "name": "stdout",
          "text": [
            "w1 = 0.500157, w2 = 0.996035, w3 = 1.998702, b = 0.021935\n"
          ]
        }
      ]
    },
    {
      "cell_type": "code",
      "source": [
        "w = np.array([0, 0, 0])\n",
        "b = 0\n",
        "alpha = 0.01"
      ],
      "metadata": {
        "id": "9DLSQ3GqLisp"
      },
      "execution_count": null,
      "outputs": []
    },
    {
      "cell_type": "code",
      "source": [
        "for i in range(50000):\n",
        "    w = w - alpha * (1/len(data)) * np.dot(np.transpose(np.dot(x, w) + b - y), x)\n",
        "    b  =  b - alpha * (1/len(data)) * sum(np.dot(x, w) + b -y)\n",
        "print(\"w =\", w, \"b =\", b)"
      ],
      "metadata": {
        "id": "pIa6HlesL7UJ",
        "colab": {
          "base_uri": "https://localhost:8080/"
        },
        "outputId": "a4b9d360-bbc9-4055-b94c-5a4dd1bec311"
      },
      "execution_count": null,
      "outputs": [
        {
          "output_type": "stream",
          "name": "stdout",
          "text": [
            "w = [1.00013981 2.00013355 2.99989456] b = 0.9989214364509907\n"
          ]
        }
      ]
    }
  ]
}